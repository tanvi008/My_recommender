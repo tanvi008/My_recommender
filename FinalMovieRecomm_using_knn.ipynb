{
  "cells": [
    {
      "cell_type": "code",
      "execution_count": null,
      "metadata": {
        "colab": {
          "base_uri": "https://localhost:8080/"
        },
        "id": "I41zbV2GB4Zo",
        "outputId": "6ac1aac7-b96b-494c-cd69-24dd63ff9be9"
      },
      "outputs": [],
      "source": [
        "#pip install requests fuzzywuzzy pandas pyjstat numpy plotly matplotlib seaborn geopy google folium pandas googlemaps"
      ]
    },
    {
      "cell_type": "code",
      "execution_count": 2,
      "metadata": {
        "colab": {
          "base_uri": "https://localhost:8080/"
        },
        "id": "XUqKtqYFlcyn",
        "outputId": "c93923f9-d37c-4af9-dcbf-af88bb7a9da5"
      },
      "outputs": [],
      "source": [
        "import pandas as pd\n",
        "import numpy as np\n",
        "from scipy.sparse import csr_matrix\n",
        "from sklearn.neighbors import NearestNeighbors\n",
        "from fuzzywuzzy import process"
      ]
    },
    {
      "cell_type": "code",
      "execution_count": 3,
      "metadata": {
        "id": "RJaGDc09ke6V"
      },
      "outputs": [],
      "source": [
        "movies = pd.read_csv('/home/tanvirupareliya/Desktop/movie recommender/tmdb_5000_movies.csv')"
      ]
    },
    {
      "cell_type": "code",
      "execution_count": 4,
      "metadata": {
        "id": "euVkJrrzk3e6"
      },
      "outputs": [
        {
          "name": "stdout",
          "output_type": "stream",
          "text": [
            "Index(['budget', 'genres', 'homepage', 'id', 'keywords', 'original_language',\n",
            "       'original_title', 'overview', 'popularity', 'production_companies',\n",
            "       'production_countries', 'release_date', 'revenue', 'runtime',\n",
            "       'spoken_languages', 'status', 'tagline', 'title', 'vote_average',\n",
            "       'vote_count'],\n",
            "      dtype='object')\n"
          ]
        }
      ],
      "source": [
        "print(movies.columns)"
      ]
    },
    {
      "cell_type": "code",
      "execution_count": 5,
      "metadata": {
        "id": "CdOuDOQMlR5J"
      },
      "outputs": [
        {
          "name": "stdout",
          "output_type": "stream",
          "text": [
            "Index(['userId', 'movieId', 'rating', 'timestamp'], dtype='object')\n"
          ]
        }
      ],
      "source": [
        "ratings = pd.read_csv('/home/tanvirupareliya/Desktop/movie recommender/ratings.csv')\n",
        "print(ratings.columns)\n"
      ]
    },
    {
      "cell_type": "code",
      "execution_count": 6,
      "metadata": {
        "id": "I5BJi-eTmvM8"
      },
      "outputs": [],
      "source": [
        "movies = pd.read_csv('/home/tanvirupareliya/Desktop/movie recommender/tmdb_5000_movies.csv',usecols = ['id','title'], dtype= {'id ': 'int32', 'title':'str'} )\n",
        "ratings = pd.read_csv('/home/tanvirupareliya/Desktop/movie recommender/ratings.csv',usecols = ['userId','movieId','rating'], dtype ={'userId':'Int64','movieId':'Int64','rating':'float'})"
      ]
    },
    {
      "cell_type": "code",
      "execution_count": 7,
      "metadata": {
        "id": "CWyzYRu3mxjz"
      },
      "outputs": [],
      "source": [
        "df_movies = movies\n",
        "df_ratings = ratings\n"
      ]
    },
    {
      "cell_type": "code",
      "execution_count": 8,
      "metadata": {
        "colab": {
          "base_uri": "https://localhost:8080/",
          "height": 206
        },
        "id": "_l_WD89pnkIt",
        "outputId": "ac9e368f-e34f-4b59-fe12-d8e2a94e1872"
      },
      "outputs": [
        {
          "data": {
            "text/html": [
              "<div>\n",
              "<style scoped>\n",
              "    .dataframe tbody tr th:only-of-type {\n",
              "        vertical-align: middle;\n",
              "    }\n",
              "\n",
              "    .dataframe tbody tr th {\n",
              "        vertical-align: top;\n",
              "    }\n",
              "\n",
              "    .dataframe thead th {\n",
              "        text-align: right;\n",
              "    }\n",
              "</style>\n",
              "<table border=\"1\" class=\"dataframe\">\n",
              "  <thead>\n",
              "    <tr style=\"text-align: right;\">\n",
              "      <th></th>\n",
              "      <th>id</th>\n",
              "      <th>title</th>\n",
              "    </tr>\n",
              "  </thead>\n",
              "  <tbody>\n",
              "    <tr>\n",
              "      <th>0</th>\n",
              "      <td>19995</td>\n",
              "      <td>Avatar</td>\n",
              "    </tr>\n",
              "    <tr>\n",
              "      <th>1</th>\n",
              "      <td>285</td>\n",
              "      <td>Pirates of the Caribbean: At World's End</td>\n",
              "    </tr>\n",
              "    <tr>\n",
              "      <th>2</th>\n",
              "      <td>206647</td>\n",
              "      <td>Spectre</td>\n",
              "    </tr>\n",
              "    <tr>\n",
              "      <th>3</th>\n",
              "      <td>49026</td>\n",
              "      <td>The Dark Knight Rises</td>\n",
              "    </tr>\n",
              "    <tr>\n",
              "      <th>4</th>\n",
              "      <td>49529</td>\n",
              "      <td>John Carter</td>\n",
              "    </tr>\n",
              "  </tbody>\n",
              "</table>\n",
              "</div>"
            ],
            "text/plain": [
              "       id                                     title\n",
              "0   19995                                    Avatar\n",
              "1     285  Pirates of the Caribbean: At World's End\n",
              "2  206647                                   Spectre\n",
              "3   49026                     The Dark Knight Rises\n",
              "4   49529                               John Carter"
            ]
          },
          "execution_count": 8,
          "metadata": {},
          "output_type": "execute_result"
        }
      ],
      "source": [
        "df_movies.head()\n"
      ]
    },
    {
      "cell_type": "code",
      "execution_count": 9,
      "metadata": {
        "colab": {
          "base_uri": "https://localhost:8080/",
          "height": 206
        },
        "id": "ytkFXTOdnzgf",
        "outputId": "6443f4c1-2e33-4cfa-a056-7c77efc04bf1"
      },
      "outputs": [
        {
          "data": {
            "text/html": [
              "<div>\n",
              "<style scoped>\n",
              "    .dataframe tbody tr th:only-of-type {\n",
              "        vertical-align: middle;\n",
              "    }\n",
              "\n",
              "    .dataframe tbody tr th {\n",
              "        vertical-align: top;\n",
              "    }\n",
              "\n",
              "    .dataframe thead th {\n",
              "        text-align: right;\n",
              "    }\n",
              "</style>\n",
              "<table border=\"1\" class=\"dataframe\">\n",
              "  <thead>\n",
              "    <tr style=\"text-align: right;\">\n",
              "      <th></th>\n",
              "      <th>userId</th>\n",
              "      <th>movieId</th>\n",
              "      <th>rating</th>\n",
              "    </tr>\n",
              "  </thead>\n",
              "  <tbody>\n",
              "    <tr>\n",
              "      <th>0</th>\n",
              "      <td>1</td>\n",
              "      <td>1</td>\n",
              "      <td>4.0</td>\n",
              "    </tr>\n",
              "    <tr>\n",
              "      <th>1</th>\n",
              "      <td>1</td>\n",
              "      <td>3</td>\n",
              "      <td>4.0</td>\n",
              "    </tr>\n",
              "    <tr>\n",
              "      <th>2</th>\n",
              "      <td>1</td>\n",
              "      <td>6</td>\n",
              "      <td>4.0</td>\n",
              "    </tr>\n",
              "    <tr>\n",
              "      <th>3</th>\n",
              "      <td>1</td>\n",
              "      <td>47</td>\n",
              "      <td>5.0</td>\n",
              "    </tr>\n",
              "    <tr>\n",
              "      <th>4</th>\n",
              "      <td>1</td>\n",
              "      <td>50</td>\n",
              "      <td>5.0</td>\n",
              "    </tr>\n",
              "  </tbody>\n",
              "</table>\n",
              "</div>"
            ],
            "text/plain": [
              "   userId  movieId  rating\n",
              "0       1        1     4.0\n",
              "1       1        3     4.0\n",
              "2       1        6     4.0\n",
              "3       1       47     5.0\n",
              "4       1       50     5.0"
            ]
          },
          "execution_count": 9,
          "metadata": {},
          "output_type": "execute_result"
        }
      ],
      "source": [
        "df_ratings.head()"
      ]
    },
    {
      "cell_type": "code",
      "execution_count": 10,
      "metadata": {
        "colab": {
          "base_uri": "https://localhost:8080/",
          "height": 252
        },
        "id": "endy6613ohoi",
        "outputId": "252029cd-2690-40e6-8607-44588cf6ca08"
      },
      "outputs": [],
      "source": [
        "## here one can take aany values instead of just rating like age group or based on genre anything.\n",
        "# ratings = pd.read_csv('/home/tanvirupareliya/Desktop/movie recommender/ratings.csv,usecols' = ['userId','movieId','rating'], dtype ={'userId':'Int64','movieId':'Int64','rating':'float'})\n",
        "# df_ratings = ratings\n",
        "movies_user = df_ratings.pivot(index = 'movieId',columns ='userId', values='rating').fillna(0)\n",
        "mat_movies_user = csr_matrix(movies_user.values) \n",
        "x = mat_movies_user"
      ]
    },
    {
      "cell_type": "code",
      "execution_count": 11,
      "metadata": {
        "id": "UXWjgBROp3eT"
      },
      "outputs": [],
      "source": [
        "#used brute force approch because it takes one value and then compares that value to all the other values.\n",
        "from sklearn.neighbors import NearestNeighbors\n",
        "model_knn = NearestNeighbors(metric ='cosine',algorithm ='brute', n_neighbors=20)"
      ]
    },
    {
      "cell_type": "code",
      "execution_count": 12,
      "metadata": {
        "colab": {
          "base_uri": "https://localhost:8080/"
        },
        "id": "7Hm9fHG3ss89",
        "outputId": "ef2784b5-f59f-41cc-9826-807a8b0bbff3"
      },
      "outputs": [
        {
          "data": {
            "text/plain": [
              "NearestNeighbors(algorithm='brute', metric='cosine', n_neighbors=20)"
            ]
          },
          "execution_count": 12,
          "metadata": {},
          "output_type": "execute_result"
        }
      ],
      "source": [
        "model_knn.fit(mat_movies_user)"
      ]
    },
    {
      "cell_type": "code",
      "execution_count": 13,
      "metadata": {
        "id": "ad7l6gW4J_aj"
      },
      "outputs": [],
      "source": [
        "def recommender(movie_name,data, model, n_recommendations):\n",
        "  model.fit(data)\n",
        "  idx = process.extractOne(movie_name,df_movies['title'])[2]\n",
        "  print('Movies Selected: ',df_movies['title'][idx], 'Index: ',idx)\n",
        "  print('----------------Your Recommendations are----------------')\n",
        "  distances , indices=model.kneighbors(data[idx], n_neighbors = n_recommendations)\n",
        "  for i in indices:\n",
        "    return_df = (df_movies['title'][i].where(i!=idx))\n",
        "\n",
        "    return return_df\n",
        "\n",
        "\n",
        "    \n",
        "\n"
      ]
    },
    {
      "cell_type": "code",
      "execution_count": 14,
      "metadata": {
        "colab": {
          "base_uri": "https://localhost:8080/"
        },
        "id": "vDGZZMTMdI3a",
        "outputId": "1100fbe5-8a3d-44a8-9568-c688124a6d84"
      },
      "outputs": [
        {
          "name": "stdout",
          "output_type": "stream",
          "text": [
            "Movies Selected:  Avatar Index:  0\n",
            "----------------Your Recommendations are----------------\n"
          ]
        },
        {
          "data": {
            "text/plain": [
              "0                                               NaN\n",
              "2353                                Life as a House\n",
              "418     Cats & Dogs 2 : The Revenge of Kitty Galore\n",
              "615                                     Money Train\n",
              "224                                         RoboCop\n",
              "314                            The Spanish Prisoner\n",
              "322                               The Fifth Element\n",
              "910                    How to Lose a Guy in 10 Days\n",
              "546                                         Minions\n",
              "963                                  Ninja Assassin\n",
              "968                               Murder by Numbers\n",
              "3189                                    The Wailing\n",
              "506                                 Despicable Me 2\n",
              "123                          The Matrix Revolutions\n",
              "257                                      Real Steel\n",
              "897                                  Deck the Halls\n",
              "815                                           Hitch\n",
              "1182                            Big Momma's House 2\n",
              "31                                       Iron Man 3\n",
              "277                                   Casino Royale\n",
              "Name: title, dtype: object"
            ]
          },
          "execution_count": 14,
          "metadata": {},
          "output_type": "execute_result"
        }
      ],
      "source": [
        "recommender(\"Avatar\",x,model_knn,20)\n"
      ]
    },
    {
      "cell_type": "code",
      "execution_count": 15,
      "metadata": {
        "id": "1H3c4sOQMm5T"
      },
      "outputs": [],
      "source": [
        "import pickle"
      ]
    },
    {
      "cell_type": "code",
      "execution_count": 16,
      "metadata": {},
      "outputs": [],
      "source": [
        "with open('model_knn','wb') as f:\n",
        "    pickle.dump(model_knn, f)"
      ]
    },
    {
      "cell_type": "code",
      "execution_count": 17,
      "metadata": {},
      "outputs": [],
      "source": [
        "with open('model_knn', 'rb') as f:\n",
        "    mp = pickle.load(f)\n",
        "    "
      ]
    },
    {
      "cell_type": "code",
      "execution_count": 19,
      "metadata": {},
      "outputs": [
        {
          "ename": "AttributeError",
          "evalue": "'NearestNeighbors' object has no attribute 'predict'",
          "output_type": "error",
          "traceback": [
            "\u001b[0;31m---------------------------------------------------------------------------\u001b[0m",
            "\u001b[0;31mAttributeError\u001b[0m                            Traceback (most recent call last)",
            "Input \u001b[0;32mIn [19]\u001b[0m, in \u001b[0;36m<cell line: 2>\u001b[0;34m()\u001b[0m\n\u001b[1;32m      1\u001b[0m mp \u001b[38;5;241m=\u001b[39m NearestNeighbors()\n\u001b[0;32m----> 2\u001b[0m \u001b[43mmp\u001b[49m\u001b[38;5;241;43m.\u001b[39;49m\u001b[43mpredict\u001b[49m(\u001b[38;5;241m5000\u001b[39m)\n",
            "\u001b[0;31mAttributeError\u001b[0m: 'NearestNeighbors' object has no attribute 'predict'"
          ]
        }
      ],
      "source": [
        "mp = NearestNeighbors()\n",
        "mp.predict(5000)"
      ]
    },
    {
      "cell_type": "code",
      "execution_count": null,
      "metadata": {},
      "outputs": [],
      "source": []
    }
  ],
  "metadata": {
    "colab": {
      "collapsed_sections": [],
      "name": "FinalMovieRecomm. using knn.ipynb",
      "provenance": []
    },
    "kernelspec": {
      "display_name": "Python 3",
      "name": "python3"
    },
    "language_info": {
      "codemirror_mode": {
        "name": "ipython",
        "version": 3
      },
      "file_extension": ".py",
      "mimetype": "text/x-python",
      "name": "python",
      "nbconvert_exporter": "python",
      "pygments_lexer": "ipython3",
      "version": "3.8.10"
    }
  },
  "nbformat": 4,
  "nbformat_minor": 0
}
